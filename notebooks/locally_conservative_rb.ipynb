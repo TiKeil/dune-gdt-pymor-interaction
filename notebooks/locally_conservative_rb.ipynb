{
 "cells": [
  {
   "cell_type": "code",
   "execution_count": 1,
   "metadata": {
    "collapsed": false
   },
   "outputs": [],
   "source": [
    "from mpi4py import MPI; import common; import grid; import functions; import la; import gdt\n",
    "gdt.init_mpi()"
   ]
  },
  {
   "cell_type": "markdown",
   "metadata": {},
   "source": [
    "$$\\begin{align}\\Omega &= [0, 1]^2\\\\\n",
    "\\Gamma_D &= \\partial\\Omega\\end{align}$$"
   ]
  },
  {
   "cell_type": "code",
   "execution_count": 2,
   "metadata": {
    "collapsed": false
   },
   "outputs": [],
   "source": [
    "g = grid.make_cube_grid__2d_simplex_aluconform(lower_left=[0, 0], upper_right=[1, 1], num_elements=[4, 4], num_refinements=2, overlap_size=[0, 0])\n",
    "#g.visualize('grid')"
   ]
  },
  {
   "cell_type": "markdown",
   "metadata": {},
   "source": [
    "$$\\begin{align}\\kappa(x; \\mu) &:= 1 - (1 - \\mu) \\cos(\\tfrac{1}{2} \\pi x_0) \\cos(\\tfrac{1}{2} \\pi x_1)\\\\\n",
    "f(x) &:= \\tfrac{1}{2} \\pi^2 \\cos(\\tfrac{1}{2} \\pi x_0) \\cos(\\tfrac{1}{2} \\pi x_1)\\\\\n",
    "g_D(x) &:= 0\\end{align}$$"
   ]
  },
  {
   "cell_type": "code",
   "execution_count": 3,
   "metadata": {
    "collapsed": false
   },
   "outputs": [],
   "source": [
    "#bump = functions.make_expression_function_1x1(g, 'x', 'cos(0.5*pi*x[0])*cos(0.5*pi*x[1])', order=3, name='bump')\n",
    "#one = functions.make_constant_function_1x1(g, 1.0, name='one')\n",
    "#diffusion = [one - bump, bump]\n",
    "#diffusion[0].visualize(g, 'diffusion_affine_part')\n",
    "#diffusion[1].visualize(g, 'diffusion_component')\n",
    "#f = functions.make_expression_function_1x1(g, 'x', '0.5*pi*pi*cos(0.5*pi*x[0])*cos(0.5*pi*x[1])', order=3, name='rhs')\n",
    "#f.visualize(g, 'force')\n",
    "#g_D = functions.make_constant_function_1x1(g, 0.0, name='dirichlet')\n",
    "kappa = functions.make_constant_function_1x1(g, 1.0, name='diffusion')\n",
    "identity = functions.make_constant_function_2x2(g, [[0, 1], [1, 0]], name='id')\n",
    "f = functions.make_constant_function_1x1(g, 1.0, name='force')\n",
    "g_D = functions.make_constant_function_1x1(g, 0.0, name='dirichlet')\n",
    "g_N = functions.make_constant_function_1x1(g, 0.0, name='neumann')"
   ]
  },
  {
   "cell_type": "code",
   "execution_count": 4,
   "metadata": {
    "collapsed": false
   },
   "outputs": [],
   "source": [
    "space = gdt.make_cg_space__1x1__p1__fem(g)\n",
    "#space.visualize(\"cg_space\")\n",
    "\n",
    "elliptic_op = gdt.make_elliptic_matrix_operator__istl_sparse(kappa, space)\n",
    "\n",
    "system_assembler = gdt.make_system_assembler(space)\n",
    "system_assembler.append(elliptic_op)\n",
    "system_assembler.assemble()"
   ]
  }
 ],
 "metadata": {
  "kernelspec": {
   "display_name": "Python 3",
   "language": "python",
   "name": "python3"
  },
  "language_info": {
   "codemirror_mode": {
    "name": "ipython",
    "version": 3
   },
   "file_extension": ".py",
   "mimetype": "text/x-python",
   "name": "python",
   "nbconvert_exporter": "python",
   "pygments_lexer": "ipython3",
   "version": "3.5.2"
  }
 },
 "nbformat": 4,
 "nbformat_minor": 1
}
